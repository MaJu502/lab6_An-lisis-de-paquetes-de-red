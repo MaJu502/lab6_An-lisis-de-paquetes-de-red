{
 "cells": [
  {
   "cell_type": "markdown",
   "metadata": {},
   "source": [
    "# Laboratorio 6 Analisis de pcap de red\n",
    "Marco Jurado 20308"
   ]
  },
  {
   "cell_type": "code",
   "execution_count": 74,
   "metadata": {},
   "outputs": [],
   "source": [
    "#!pip install scapy"
   ]
  },
  {
   "cell_type": "code",
   "execution_count": 75,
   "metadata": {},
   "outputs": [],
   "source": [
    "from scapy.all import *\n",
    "import pandas as pd\n",
    "import numpy as np\n",
    "import binascii\n",
    "import seaborn as sns\n",
    "sns.set(color_codes=True)\n",
    "import matplotlib.pyplot as plt\n",
    "from scapy.all import IP, TCP, UDP, Raw, rdpcap"
   ]
  },
  {
   "cell_type": "markdown",
   "metadata": {},
   "source": [
    "### Parte 1 - Preámbulo"
   ]
  },
  {
   "cell_type": "code",
   "execution_count": 76,
   "metadata": {},
   "outputs": [],
   "source": [
    "pcap = sniff(count=25)"
   ]
  },
  {
   "cell_type": "markdown",
   "metadata": {},
   "source": [
    "3. Imprima el tipo de variable, la longitud y el contenido del variable."
   ]
  },
  {
   "cell_type": "code",
   "execution_count": 77,
   "metadata": {},
   "outputs": [
    {
     "data": {
      "text/plain": [
       "scapy.plist.PacketList"
      ]
     },
     "execution_count": 77,
     "metadata": {},
     "output_type": "execute_result"
    }
   ],
   "source": [
    "type(pcap)"
   ]
  },
  {
   "cell_type": "code",
   "execution_count": 78,
   "metadata": {},
   "outputs": [
    {
     "data": {
      "text/plain": [
       "25"
      ]
     },
     "execution_count": 78,
     "metadata": {},
     "output_type": "execute_result"
    }
   ],
   "source": [
    "len(pcap)"
   ]
  },
  {
   "cell_type": "code",
   "execution_count": 79,
   "metadata": {},
   "outputs": [
    {
     "data": {
      "text/plain": [
       "<Sniffed: TCP:25 UDP:0 ICMP:0 Other:0>"
      ]
     },
     "execution_count": 79,
     "metadata": {},
     "output_type": "execute_result"
    }
   ],
   "source": [
    "pcap"
   ]
  },
  {
   "cell_type": "markdown",
   "metadata": {},
   "source": [
    "4. Imprima el tipo de dato del primer paquete capturado"
   ]
  },
  {
   "cell_type": "code",
   "execution_count": 80,
   "metadata": {},
   "outputs": [
    {
     "data": {
      "text/plain": [
       "scapy.layers.l2.Ether"
      ]
     },
     "execution_count": 80,
     "metadata": {},
     "output_type": "execute_result"
    }
   ],
   "source": [
    "type(pcap[0])"
   ]
  },
  {
   "cell_type": "markdown",
   "metadata": {},
   "source": [
    "5. Imprima el contenido de 5 is."
   ]
  },
  {
   "cell_type": "code",
   "execution_count": 81,
   "metadata": {},
   "outputs": [
    {
     "name": "stdout",
     "output_type": "stream",
     "text": [
      "Ether / IPv6 / TCP 2800:98:1123:95d:94ff:d55f:d444:38aa:49700 > 2803:f340:1300::c:domain S\n",
      "Ether / IPv6 / TCP 2800:98:1123:95d:94ff:d55f:d444:38aa:49702 > 2803:f340:1300::c:domain S\n",
      "Ether / IPv6 / TCP 2800:98:1123:95d:94ff:d55f:d444:38aa:49711 > 2800:98:0:4::4:domain S\n",
      "Ether / IP / TCP 192.168.1.21:49708 > 216.230.139.8:domain FA\n",
      "Ether / IP / TCP 192.168.1.21:49678 > 216.230.139.8:domain S\n"
     ]
    }
   ],
   "source": [
    "for i in range(5):\n",
    "    print(pcap[i])"
   ]
  },
  {
   "cell_type": "markdown",
   "metadata": {},
   "source": [
    "### Parte 2 - Análisis estadístico"
   ]
  },
  {
   "cell_type": "markdown",
   "metadata": {},
   "source": [
    "1. Descargue e archivo analisis_paquetes.pcap y asignelo a una variable."
   ]
  },
  {
   "cell_type": "code",
   "execution_count": 82,
   "metadata": {},
   "outputs": [],
   "source": [
    "analisis_paquetes = rdpcap('analisis_paquetes.pcap')"
   ]
  },
  {
   "cell_type": "markdown",
   "metadata": {},
   "source": [
    "2. Convierta la variable a un DataFrame."
   ]
  },
  {
   "cell_type": "code",
   "execution_count": 83,
   "metadata": {},
   "outputs": [],
   "source": [
    "# utilizando lógica del archivo de ejemplo visto en clase podemos convertir a DF manteniendo sus caracteristicas de\n",
    "#    IP\n",
    "#    TCP\n",
    "#    Source y destino\n",
    "#    Payload\n",
    "#    Address\n",
    "\n",
    "def convertir_paquetes_a_dataframe(paquetes):\n",
    "    datos_paquetes = []\n",
    "\n",
    "    for packet in paquetes:\n",
    "        tiempo = packet.time\n",
    "        src_address = packet[IP].src if IP in packet else None\n",
    "        dst_address = packet[IP].dst if IP in packet else None\n",
    "\n",
    "        if TCP in packet:\n",
    "            src_port = packet[TCP].sport\n",
    "            dst_port = packet[TCP].dport\n",
    "        elif UDP in packet:\n",
    "            src_port = packet[UDP].sport\n",
    "            dst_port = packet[UDP].dport\n",
    "        else:\n",
    "            src_port = None\n",
    "            dst_port = None\n",
    "\n",
    "        payload = len(packet[Raw].load) if Raw in packet else 0\n",
    "\n",
    "        datos_paquetes.append({\n",
    "            'Time': tiempo,\n",
    "            'Src Address': src_address,\n",
    "            'Dst Address': dst_address,\n",
    "            'Src Port': src_port,\n",
    "            'Dst Port': dst_port,\n",
    "            'Payload': payload\n",
    "        })\n",
    "\n",
    "    df = pd.DataFrame(datos_paquetes)\n",
    "    return df\n",
    "\n",
    "analisis_paquetes = rdpcap('analisis_paquetes.pcap')\n",
    "\n",
    "df_paquetes = convertir_paquetes_a_dataframe(analisis_paquetes)"
   ]
  },
  {
   "cell_type": "code",
   "execution_count": 84,
   "metadata": {},
   "outputs": [
    {
     "data": {
      "text/html": [
       "<div>\n",
       "<style scoped>\n",
       "    .dataframe tbody tr th:only-of-type {\n",
       "        vertical-align: middle;\n",
       "    }\n",
       "\n",
       "    .dataframe tbody tr th {\n",
       "        vertical-align: top;\n",
       "    }\n",
       "\n",
       "    .dataframe thead th {\n",
       "        text-align: right;\n",
       "    }\n",
       "</style>\n",
       "<table border=\"1\" class=\"dataframe\">\n",
       "  <thead>\n",
       "    <tr style=\"text-align: right;\">\n",
       "      <th></th>\n",
       "      <th>Time</th>\n",
       "      <th>Src Address</th>\n",
       "      <th>Dst Address</th>\n",
       "      <th>Src Port</th>\n",
       "      <th>Dst Port</th>\n",
       "      <th>Payload</th>\n",
       "    </tr>\n",
       "  </thead>\n",
       "  <tbody>\n",
       "    <tr>\n",
       "      <th>0</th>\n",
       "      <td>1532199330.917674</td>\n",
       "      <td>10.1.10.53</td>\n",
       "      <td>84.54.22.33</td>\n",
       "      <td>53</td>\n",
       "      <td>53</td>\n",
       "      <td>905</td>\n",
       "    </tr>\n",
       "    <tr>\n",
       "      <th>1</th>\n",
       "      <td>1532199330.950107</td>\n",
       "      <td>84.54.22.33</td>\n",
       "      <td>10.1.10.53</td>\n",
       "      <td>53</td>\n",
       "      <td>53</td>\n",
       "      <td>0</td>\n",
       "    </tr>\n",
       "    <tr>\n",
       "      <th>2</th>\n",
       "      <td>1532199331.937777</td>\n",
       "      <td>10.1.10.53</td>\n",
       "      <td>84.54.22.33</td>\n",
       "      <td>53</td>\n",
       "      <td>53</td>\n",
       "      <td>919</td>\n",
       "    </tr>\n",
       "    <tr>\n",
       "      <th>3</th>\n",
       "      <td>1532199331.956635</td>\n",
       "      <td>84.54.22.33</td>\n",
       "      <td>10.1.10.53</td>\n",
       "      <td>53</td>\n",
       "      <td>53</td>\n",
       "      <td>0</td>\n",
       "    </tr>\n",
       "    <tr>\n",
       "      <th>4</th>\n",
       "      <td>1532199332.960504</td>\n",
       "      <td>10.1.10.53</td>\n",
       "      <td>84.54.22.33</td>\n",
       "      <td>53</td>\n",
       "      <td>53</td>\n",
       "      <td>956</td>\n",
       "    </tr>\n",
       "    <tr>\n",
       "      <th>...</th>\n",
       "      <td>...</td>\n",
       "      <td>...</td>\n",
       "      <td>...</td>\n",
       "      <td>...</td>\n",
       "      <td>...</td>\n",
       "      <td>...</td>\n",
       "    </tr>\n",
       "    <tr>\n",
       "      <th>57</th>\n",
       "      <td>1532199357.446249</td>\n",
       "      <td>84.54.22.33</td>\n",
       "      <td>10.1.10.53</td>\n",
       "      <td>53</td>\n",
       "      <td>53</td>\n",
       "      <td>0</td>\n",
       "    </tr>\n",
       "    <tr>\n",
       "      <th>58</th>\n",
       "      <td>1532199358.456765</td>\n",
       "      <td>10.1.10.53</td>\n",
       "      <td>84.54.22.33</td>\n",
       "      <td>53</td>\n",
       "      <td>53</td>\n",
       "      <td>913</td>\n",
       "    </tr>\n",
       "    <tr>\n",
       "      <th>59</th>\n",
       "      <td>1532199358.471973</td>\n",
       "      <td>84.54.22.33</td>\n",
       "      <td>10.1.10.53</td>\n",
       "      <td>53</td>\n",
       "      <td>53</td>\n",
       "      <td>0</td>\n",
       "    </tr>\n",
       "    <tr>\n",
       "      <th>60</th>\n",
       "      <td>1532199359.479115</td>\n",
       "      <td>10.1.10.53</td>\n",
       "      <td>84.54.22.33</td>\n",
       "      <td>53</td>\n",
       "      <td>53</td>\n",
       "      <td>532</td>\n",
       "    </tr>\n",
       "    <tr>\n",
       "      <th>61</th>\n",
       "      <td>1532199359.500812</td>\n",
       "      <td>84.54.22.33</td>\n",
       "      <td>10.1.10.53</td>\n",
       "      <td>53</td>\n",
       "      <td>53</td>\n",
       "      <td>0</td>\n",
       "    </tr>\n",
       "  </tbody>\n",
       "</table>\n",
       "<p>62 rows × 6 columns</p>\n",
       "</div>"
      ],
      "text/plain": [
       "                 Time  Src Address  Dst Address  Src Port  Dst Port  Payload\n",
       "0   1532199330.917674   10.1.10.53  84.54.22.33        53        53      905\n",
       "1   1532199330.950107  84.54.22.33   10.1.10.53        53        53        0\n",
       "2   1532199331.937777   10.1.10.53  84.54.22.33        53        53      919\n",
       "3   1532199331.956635  84.54.22.33   10.1.10.53        53        53        0\n",
       "4   1532199332.960504   10.1.10.53  84.54.22.33        53        53      956\n",
       "..                ...          ...          ...       ...       ...      ...\n",
       "57  1532199357.446249  84.54.22.33   10.1.10.53        53        53        0\n",
       "58  1532199358.456765   10.1.10.53  84.54.22.33        53        53      913\n",
       "59  1532199358.471973  84.54.22.33   10.1.10.53        53        53        0\n",
       "60  1532199359.479115   10.1.10.53  84.54.22.33        53        53      532\n",
       "61  1532199359.500812  84.54.22.33   10.1.10.53        53        53        0\n",
       "\n",
       "[62 rows x 6 columns]"
      ]
     },
     "execution_count": 84,
     "metadata": {},
     "output_type": "execute_result"
    }
   ],
   "source": [
    "df_paquetes"
   ]
  },
  {
   "cell_type": "markdown",
   "metadata": {},
   "source": [
    "3. Muestre el contenido de las primeras 5 filas del dataset."
   ]
  },
  {
   "cell_type": "code",
   "execution_count": 85,
   "metadata": {},
   "outputs": [
    {
     "data": {
      "text/html": [
       "<div>\n",
       "<style scoped>\n",
       "    .dataframe tbody tr th:only-of-type {\n",
       "        vertical-align: middle;\n",
       "    }\n",
       "\n",
       "    .dataframe tbody tr th {\n",
       "        vertical-align: top;\n",
       "    }\n",
       "\n",
       "    .dataframe thead th {\n",
       "        text-align: right;\n",
       "    }\n",
       "</style>\n",
       "<table border=\"1\" class=\"dataframe\">\n",
       "  <thead>\n",
       "    <tr style=\"text-align: right;\">\n",
       "      <th></th>\n",
       "      <th>Time</th>\n",
       "      <th>Src Address</th>\n",
       "      <th>Dst Address</th>\n",
       "      <th>Src Port</th>\n",
       "      <th>Dst Port</th>\n",
       "      <th>Payload</th>\n",
       "    </tr>\n",
       "  </thead>\n",
       "  <tbody>\n",
       "    <tr>\n",
       "      <th>0</th>\n",
       "      <td>1532199330.917674</td>\n",
       "      <td>10.1.10.53</td>\n",
       "      <td>84.54.22.33</td>\n",
       "      <td>53</td>\n",
       "      <td>53</td>\n",
       "      <td>905</td>\n",
       "    </tr>\n",
       "    <tr>\n",
       "      <th>1</th>\n",
       "      <td>1532199330.950107</td>\n",
       "      <td>84.54.22.33</td>\n",
       "      <td>10.1.10.53</td>\n",
       "      <td>53</td>\n",
       "      <td>53</td>\n",
       "      <td>0</td>\n",
       "    </tr>\n",
       "    <tr>\n",
       "      <th>2</th>\n",
       "      <td>1532199331.937777</td>\n",
       "      <td>10.1.10.53</td>\n",
       "      <td>84.54.22.33</td>\n",
       "      <td>53</td>\n",
       "      <td>53</td>\n",
       "      <td>919</td>\n",
       "    </tr>\n",
       "    <tr>\n",
       "      <th>3</th>\n",
       "      <td>1532199331.956635</td>\n",
       "      <td>84.54.22.33</td>\n",
       "      <td>10.1.10.53</td>\n",
       "      <td>53</td>\n",
       "      <td>53</td>\n",
       "      <td>0</td>\n",
       "    </tr>\n",
       "    <tr>\n",
       "      <th>4</th>\n",
       "      <td>1532199332.960504</td>\n",
       "      <td>10.1.10.53</td>\n",
       "      <td>84.54.22.33</td>\n",
       "      <td>53</td>\n",
       "      <td>53</td>\n",
       "      <td>956</td>\n",
       "    </tr>\n",
       "  </tbody>\n",
       "</table>\n",
       "</div>"
      ],
      "text/plain": [
       "                Time  Src Address  Dst Address  Src Port  Dst Port  Payload\n",
       "0  1532199330.917674   10.1.10.53  84.54.22.33        53        53      905\n",
       "1  1532199330.950107  84.54.22.33   10.1.10.53        53        53        0\n",
       "2  1532199331.937777   10.1.10.53  84.54.22.33        53        53      919\n",
       "3  1532199331.956635  84.54.22.33   10.1.10.53        53        53        0\n",
       "4  1532199332.960504   10.1.10.53  84.54.22.33        53        53      956"
      ]
     },
     "execution_count": 85,
     "metadata": {},
     "output_type": "execute_result"
    }
   ],
   "source": [
    "df_paquetes.head()"
   ]
  },
  {
   "cell_type": "markdown",
   "metadata": {},
   "source": [
    "4. Muestre los valores de las columnas: Src Addres, Dst Address, Src Port y Dst Port."
   ]
  },
  {
   "cell_type": "code",
   "execution_count": 86,
   "metadata": {},
   "outputs": [
    {
     "data": {
      "text/html": [
       "<div>\n",
       "<style scoped>\n",
       "    .dataframe tbody tr th:only-of-type {\n",
       "        vertical-align: middle;\n",
       "    }\n",
       "\n",
       "    .dataframe tbody tr th {\n",
       "        vertical-align: top;\n",
       "    }\n",
       "\n",
       "    .dataframe thead th {\n",
       "        text-align: right;\n",
       "    }\n",
       "</style>\n",
       "<table border=\"1\" class=\"dataframe\">\n",
       "  <thead>\n",
       "    <tr style=\"text-align: right;\">\n",
       "      <th></th>\n",
       "      <th>Src Address</th>\n",
       "      <th>Dst Address</th>\n",
       "      <th>Src Port</th>\n",
       "      <th>Dst Port</th>\n",
       "    </tr>\n",
       "  </thead>\n",
       "  <tbody>\n",
       "    <tr>\n",
       "      <th>0</th>\n",
       "      <td>10.1.10.53</td>\n",
       "      <td>84.54.22.33</td>\n",
       "      <td>53</td>\n",
       "      <td>53</td>\n",
       "    </tr>\n",
       "    <tr>\n",
       "      <th>1</th>\n",
       "      <td>84.54.22.33</td>\n",
       "      <td>10.1.10.53</td>\n",
       "      <td>53</td>\n",
       "      <td>53</td>\n",
       "    </tr>\n",
       "    <tr>\n",
       "      <th>2</th>\n",
       "      <td>10.1.10.53</td>\n",
       "      <td>84.54.22.33</td>\n",
       "      <td>53</td>\n",
       "      <td>53</td>\n",
       "    </tr>\n",
       "    <tr>\n",
       "      <th>3</th>\n",
       "      <td>84.54.22.33</td>\n",
       "      <td>10.1.10.53</td>\n",
       "      <td>53</td>\n",
       "      <td>53</td>\n",
       "    </tr>\n",
       "    <tr>\n",
       "      <th>4</th>\n",
       "      <td>10.1.10.53</td>\n",
       "      <td>84.54.22.33</td>\n",
       "      <td>53</td>\n",
       "      <td>53</td>\n",
       "    </tr>\n",
       "    <tr>\n",
       "      <th>...</th>\n",
       "      <td>...</td>\n",
       "      <td>...</td>\n",
       "      <td>...</td>\n",
       "      <td>...</td>\n",
       "    </tr>\n",
       "    <tr>\n",
       "      <th>57</th>\n",
       "      <td>84.54.22.33</td>\n",
       "      <td>10.1.10.53</td>\n",
       "      <td>53</td>\n",
       "      <td>53</td>\n",
       "    </tr>\n",
       "    <tr>\n",
       "      <th>58</th>\n",
       "      <td>10.1.10.53</td>\n",
       "      <td>84.54.22.33</td>\n",
       "      <td>53</td>\n",
       "      <td>53</td>\n",
       "    </tr>\n",
       "    <tr>\n",
       "      <th>59</th>\n",
       "      <td>84.54.22.33</td>\n",
       "      <td>10.1.10.53</td>\n",
       "      <td>53</td>\n",
       "      <td>53</td>\n",
       "    </tr>\n",
       "    <tr>\n",
       "      <th>60</th>\n",
       "      <td>10.1.10.53</td>\n",
       "      <td>84.54.22.33</td>\n",
       "      <td>53</td>\n",
       "      <td>53</td>\n",
       "    </tr>\n",
       "    <tr>\n",
       "      <th>61</th>\n",
       "      <td>84.54.22.33</td>\n",
       "      <td>10.1.10.53</td>\n",
       "      <td>53</td>\n",
       "      <td>53</td>\n",
       "    </tr>\n",
       "  </tbody>\n",
       "</table>\n",
       "<p>62 rows × 4 columns</p>\n",
       "</div>"
      ],
      "text/plain": [
       "    Src Address  Dst Address  Src Port  Dst Port\n",
       "0    10.1.10.53  84.54.22.33        53        53\n",
       "1   84.54.22.33   10.1.10.53        53        53\n",
       "2    10.1.10.53  84.54.22.33        53        53\n",
       "3   84.54.22.33   10.1.10.53        53        53\n",
       "4    10.1.10.53  84.54.22.33        53        53\n",
       "..          ...          ...       ...       ...\n",
       "57  84.54.22.33   10.1.10.53        53        53\n",
       "58   10.1.10.53  84.54.22.33        53        53\n",
       "59  84.54.22.33   10.1.10.53        53        53\n",
       "60   10.1.10.53  84.54.22.33        53        53\n",
       "61  84.54.22.33   10.1.10.53        53        53\n",
       "\n",
       "[62 rows x 4 columns]"
      ]
     },
     "execution_count": 86,
     "metadata": {},
     "output_type": "execute_result"
    }
   ],
   "source": [
    "df_paquetes[['Src Address', 'Dst Address', 'Src Port', 'Dst Port']]"
   ]
  },
  {
   "cell_type": "markdown",
   "metadata": {},
   "source": [
    "5. Estadísticas"
   ]
  },
  {
   "cell_type": "code",
   "execution_count": 87,
   "metadata": {},
   "outputs": [
    {
     "data": {
      "text/plain": [
       "array(['10.1.10.53', '84.54.22.33', '75.75.75.75'], dtype=object)"
      ]
     },
     "execution_count": 87,
     "metadata": {},
     "output_type": "execute_result"
    }
   ],
   "source": [
    "df_paquetes['Src Address'].unique()"
   ]
  },
  {
   "cell_type": "code",
   "execution_count": 88,
   "metadata": {},
   "outputs": [
    {
     "data": {
      "text/plain": [
       "array(['84.54.22.33', '10.1.10.53', '75.75.75.75'], dtype=object)"
      ]
     },
     "execution_count": 88,
     "metadata": {},
     "output_type": "execute_result"
    }
   ],
   "source": [
    "df_paquetes['Dst Address'].unique()"
   ]
  },
  {
   "cell_type": "markdown",
   "metadata": {},
   "source": [
    "¿Cuál es la IP origen más frecuente?"
   ]
  },
  {
   "cell_type": "code",
   "execution_count": 89,
   "metadata": {},
   "outputs": [
    {
     "name": "stdout",
     "output_type": "stream",
     "text": [
      "La IP origen más frecuente es: 10.1.10.53\n"
     ]
    }
   ],
   "source": [
    "ip_origen_frecuente = df_paquetes['Src Address'].mode()[0]\n",
    "print(\"La IP origen más frecuente es:\", ip_origen_frecuente)"
   ]
  },
  {
   "cell_type": "markdown",
   "metadata": {},
   "source": [
    "¿A qué IP destino se comunica con más frecuencia?"
   ]
  },
  {
   "cell_type": "code",
   "execution_count": 90,
   "metadata": {},
   "outputs": [
    {
     "name": "stdout",
     "output_type": "stream",
     "text": [
      "La IP destino más frecuente para la IP origen más frecuente es: 84.54.22.33\n"
     ]
    }
   ],
   "source": [
    "ip_destino_frecuente = df_paquetes[df_paquetes['Src Address'] == ip_origen_frecuente]['Dst Address'].mode()[0]\n",
    "print(\"La IP destino más frecuente para la IP origen más frecuente es:\", ip_destino_frecuente)"
   ]
  },
  {
   "cell_type": "markdown",
   "metadata": {},
   "source": [
    "¿A qué puerto destino se comunica?"
   ]
  },
  {
   "cell_type": "code",
   "execution_count": 91,
   "metadata": {},
   "outputs": [
    {
     "name": "stdout",
     "output_type": "stream",
     "text": [
      "El puerto destino más frecuente para la IP origen más frecuente es: 53\n"
     ]
    }
   ],
   "source": [
    "puerto_destino_frecuente = df_paquetes[df_paquetes['Src Address'] == ip_origen_frecuente]['Dst Port'].mode()[0]\n",
    "print(\"El puerto destino más frecuente para la IP origen más frecuente es:\", puerto_destino_frecuente)"
   ]
  },
  {
   "cell_type": "markdown",
   "metadata": {},
   "source": [
    "¿Desde qué puertos origen se comunica?"
   ]
  },
  {
   "cell_type": "code",
   "execution_count": 92,
   "metadata": {},
   "outputs": [
    {
     "name": "stdout",
     "output_type": "stream",
     "text": [
      "Puertos origen desde los cuales se comunica la IP origen más frecuente: [   53 15812 23903]\n"
     ]
    }
   ],
   "source": [
    "puertos_origen = df_paquetes[df_paquetes['Src Address'] == ip_origen_frecuente]['Src Port'].unique()\n",
    "print(\"Puertos origen desde los cuales se comunica la IP origen más frecuente:\", puertos_origen)"
   ]
  },
  {
   "cell_type": "markdown",
   "metadata": {},
   "source": [
    "6. Gráficas"
   ]
  },
  {
   "cell_type": "markdown",
   "metadata": {},
   "source": [
    "a. Gráfica de barras de las IPs origen y la suma de payloads"
   ]
  },
  {
   "cell_type": "code",
   "execution_count": 1,
   "metadata": {},
   "outputs": [
    {
     "ename": "NameError",
     "evalue": "name 'df_paquetes' is not defined",
     "output_type": "error",
     "traceback": [
      "\u001b[1;31m---------------------------------------------------------------------------\u001b[0m",
      "\u001b[1;31mNameError\u001b[0m                                 Traceback (most recent call last)",
      "Cell \u001b[1;32mIn[1], line 1\u001b[0m\n\u001b[1;32m----> 1\u001b[0m suma_payloads_origen \u001b[38;5;241m=\u001b[39m \u001b[43mdf_paquetes\u001b[49m\u001b[38;5;241m.\u001b[39mgroupby(\u001b[38;5;124m'\u001b[39m\u001b[38;5;124mSrc Address\u001b[39m\u001b[38;5;124m'\u001b[39m)[\u001b[38;5;124m'\u001b[39m\u001b[38;5;124mPayload\u001b[39m\u001b[38;5;124m'\u001b[39m]\u001b[38;5;241m.\u001b[39msum()\u001b[38;5;241m.\u001b[39msort_values()\n\u001b[0;32m      2\u001b[0m plt\u001b[38;5;241m.\u001b[39mfigure(figsize\u001b[38;5;241m=\u001b[39m(\u001b[38;5;241m10\u001b[39m, \u001b[38;5;241m8\u001b[39m))\n\u001b[0;32m      3\u001b[0m suma_payloads_origen\u001b[38;5;241m.\u001b[39mplot(kind\u001b[38;5;241m=\u001b[39m\u001b[38;5;124m'\u001b[39m\u001b[38;5;124mbarh\u001b[39m\u001b[38;5;124m'\u001b[39m)\n",
      "\u001b[1;31mNameError\u001b[0m: name 'df_paquetes' is not defined"
     ]
    }
   ],
   "source": [
    "suma_payloads_origen = df_paquetes.groupby('Src Address')['Payload'].sum().sort_values()\n",
    "plt.figure(figsize=(10, 8))\n",
    "suma_payloads_origen.plot(kind='barh')\n",
    "plt.xlabel('Suma de Payloads (bytes)')\n",
    "plt.ylabel('IPs Origen')\n",
    "plt.title('Suma de Payloads enviados desde cada IP Origen')\n",
    "plt.show()"
   ]
  },
  {
   "cell_type": "markdown",
   "metadata": {},
   "source": [
    "b. Gráfica de barras de las IPs destino y la suma de payloads"
   ]
  },
  {
   "cell_type": "code",
   "execution_count": null,
   "metadata": {},
   "outputs": [],
   "source": [
    "suma_payloads_destino = df_paquetes.groupby('Dst Address')['Payload'].sum().sort_values()\n",
    "plt.figure(figsize=(10, 8))\n",
    "suma_payloads_destino.plot(kind='barh')\n",
    "plt.xlabel('Suma de Payloads (bytes)')\n",
    "plt.ylabel('IPs Destino')\n",
    "plt.title('Suma de Payloads recibidos en cada IP Destino')\n",
    "plt.show()"
   ]
  },
  {
   "cell_type": "markdown",
   "metadata": {},
   "source": [
    "c. Gráfica de barras de los puertos origen y la suma de payloads"
   ]
  },
  {
   "cell_type": "code",
   "execution_count": null,
   "metadata": {},
   "outputs": [],
   "source": [
    "suma_payloads_puerto_origen = df_paquetes.groupby('Src Port')['Payload'].sum().sort_values()\n",
    "plt.figure(figsize=(10, 8))\n",
    "suma_payloads_puerto_origen.plot(kind='barh')\n",
    "plt.xlabel('Suma de Payloads (bytes)')\n",
    "plt.ylabel('Puertos Origen')\n",
    "plt.title('Suma de Payloads enviados desde cada Puerto Origen')\n",
    "plt.show()"
   ]
  },
  {
   "cell_type": "markdown",
   "metadata": {},
   "source": [
    "d. Gráfica de barras de los puertos destino y la suma de payloads"
   ]
  },
  {
   "cell_type": "code",
   "execution_count": null,
   "metadata": {},
   "outputs": [],
   "source": [
    "suma_payloads_puerto_destino = df_paquetes.groupby('Dst Port')['Payload'].sum().sort_values()\n",
    "plt.figure(figsize=(10, 8))\n",
    "suma_payloads_puerto_destino.plot(kind='barh')\n",
    "plt.xlabel('Suma de Payloads (bytes)')\n",
    "plt.ylabel('Puertos Destino')\n",
    "plt.title('Suma de Payloads recibidos en cada Puerto Destino')\n",
    "plt.show()"
   ]
  },
  {
   "cell_type": "markdown",
   "metadata": {},
   "source": [
    "e. Gráfica de barras verticales del payload y el tiempo para la IP origen más frecuente"
   ]
  },
  {
   "cell_type": "code",
   "execution_count": null,
   "metadata": {},
   "outputs": [],
   "source": [
    "df_ip_origen = df_paquetes[df_paquetes['Src Address'] == ip_origen_frecuente]\n",
    "suma_payloads_tiempo = df_ip_origen.groupby('Time')['Payload'].sum()\n",
    "plt.figure(figsize=(12, 6))\n",
    "suma_payloads_tiempo.plot(kind='bar')\n",
    "plt.xlabel('Tiempo')\n",
    "plt.ylabel('Suma de Payloads (bytes)')\n",
    "plt.title('Suma de Payloads enviados por la IP Origen más frecuente a lo largo del tiempo')\n",
    "plt.xticks(rotation=45)\n",
    "plt.show()"
   ]
  },
  {
   "cell_type": "markdown",
   "metadata": {},
   "source": [
    "7. Investigación del payload"
   ]
  },
  {
   "cell_type": "markdown",
   "metadata": {},
   "source": [
    "a. Crear un nuevo DataFrame con solo la IP origen más frecuente"
   ]
  },
  {
   "cell_type": "code",
   "execution_count": null,
   "metadata": {},
   "outputs": [],
   "source": [
    "ip_origen_frecuente = df_paquetes['Src Address'].mode()[0]\n",
    "df_ip_origen_frecuente = df_paquetes[df_paquetes['Src Address'] == ip_origen_frecuente]"
   ]
  },
  {
   "cell_type": "markdown",
   "metadata": {},
   "source": [
    "b. Nuevo DataFrame con las columnas necesarias y agrupadas"
   ]
  },
  {
   "cell_type": "code",
   "execution_count": null,
   "metadata": {},
   "outputs": [],
   "source": [
    "df_agrupado = df_ip_origen_frecuente.groupby('Dst Address')['Payload'].sum().reset_index()"
   ]
  },
  {
   "cell_type": "markdown",
   "metadata": {},
   "source": [
    "c. Identificar la IP destino que más ha intercambiado bytes"
   ]
  },
  {
   "cell_type": "code",
   "execution_count": null,
   "metadata": {},
   "outputs": [],
   "source": [
    "ip_destino_sospechosa = df_agrupado[df_agrupado['Payload'] == df_agrupado['Payload'].max()]['Dst Address'].iloc[0]\n",
    "ip_destino_sospechosa\n"
   ]
  },
  {
   "cell_type": "markdown",
   "metadata": {},
   "source": [
    "d. Crear un nuevo DataFrame con la conversación entre la IP más frecuente y la IP sospechosa"
   ]
  },
  {
   "cell_type": "code",
   "execution_count": null,
   "metadata": {},
   "outputs": [],
   "source": [
    "df_conversacion = df_ip_origen_frecuente[(df_ip_origen_frecuente['Dst Address'] == ip_destino_sospechosa)]"
   ]
  },
  {
   "cell_type": "markdown",
   "metadata": {},
   "source": [
    "e. Extraer los payloads en un array"
   ]
  },
  {
   "cell_type": "code",
   "execution_count": null,
   "metadata": {},
   "outputs": [],
   "source": [
    "array_payloads = df_conversacion['Payload'].to_list()"
   ]
  },
  {
   "cell_type": "markdown",
   "metadata": {},
   "source": [
    "f. Mostrar el contenido del array"
   ]
  },
  {
   "cell_type": "code",
   "execution_count": null,
   "metadata": {},
   "outputs": [],
   "source": [
    "array_payloads"
   ]
  },
  {
   "cell_type": "code",
   "execution_count": null,
   "metadata": {},
   "outputs": [],
   "source": [
    "array_payloads.head"
   ]
  },
  {
   "cell_type": "markdown",
   "metadata": {},
   "source": [
    "g. Análisis de los primeros bytes del payload"
   ]
  },
  {
   "cell_type": "code",
   "execution_count": null,
   "metadata": {},
   "outputs": [],
   "source": [
    "primeros_bytes = [packet[Raw].load[:10] if Raw in packet else None for packet in df_conversacion['Raw']]\n",
    "primeros_bytes"
   ]
  }
 ],
 "metadata": {
  "kernelspec": {
   "display_name": "Python 3",
   "language": "python",
   "name": "python3"
  },
  "language_info": {
   "codemirror_mode": {
    "name": "ipython",
    "version": 3
   },
   "file_extension": ".py",
   "mimetype": "text/x-python",
   "name": "python",
   "nbconvert_exporter": "python",
   "pygments_lexer": "ipython3",
   "version": "3.10.5"
  }
 },
 "nbformat": 4,
 "nbformat_minor": 2
}
